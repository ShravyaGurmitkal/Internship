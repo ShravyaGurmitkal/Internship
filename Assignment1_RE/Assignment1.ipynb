{
 "cells": [
  {
   "cell_type": "code",
   "execution_count": 1,
   "id": "de316450-c4f1-4499-a1cb-36b61034fc42",
   "metadata": {},
   "outputs": [],
   "source": [
    "import re\n",
    "import pandas as pd"
   ]
  },
  {
   "cell_type": "markdown",
   "id": "f0bd173f-14e0-4510-8bce-4ebaf6cc9543",
   "metadata": {},
   "source": [
    "\n",
    "Question 1- Write a Python program to replace all occurrences of a space, comma, or dot with a colon.\r\n",
    "Sample Text- 'Python Exercises, PHP exercises.'\r\n",
    "Expected Output: Python:Exercises::PHP:exerciss:\r\n"
   ]
  },
  {
   "cell_type": "code",
   "execution_count": 260,
   "id": "da08952a-a68e-4df3-8fe1-bc05a5ffe4c1",
   "metadata": {},
   "outputs": [
    {
     "name": "stdout",
     "output_type": "stream",
     "text": [
      "Python:Exercises::PHP:exercises:\n"
     ]
    }
   ],
   "source": [
    "text = 'Python Exercises, PHP exercises.'\n",
    "result = re.sub(\"[\\s.,]\",\":\",text)\n",
    "print(result)"
   ]
  },
  {
   "cell_type": "markdown",
   "id": "d829e923-659e-402f-8dff-fab64419940a",
   "metadata": {},
   "source": [
    "Question 2-  Create a dataframe using the dictionary below and remove everything (commas (,), !, XXXX, ;, etc.) from the columns except words.\n",
    "Dictionary- {'SUMMARY' : ['hello, world!', 'XXXXX test', '123four, five:; six...']}\n",
    "Expected output-\n",
    "0      hello world\n",
    "1             test\n",
    "2    four five six"
   ]
  },
  {
   "cell_type": "code",
   "execution_count": 248,
   "id": "8234c731-ff4c-4d6d-b1e0-31e2d6877f59",
   "metadata": {},
   "outputs": [
    {
     "name": "stdout",
     "output_type": "stream",
     "text": [
      "0      hello world\n",
      "1             test\n",
      "2    four five six\n"
     ]
    }
   ],
   "source": [
    "dictionary = {'SUMMARY' : ['hello, world!', 'XXXXX test', '123four, five:; six...']}\n",
    "df = pd.DataFrame(dictionary)\n",
    "pattern = r\"[^a-zA-Z\\s]|X{5}\"\n",
    "df[\"SUMMARY\"] = df[\"SUMMARY\"].apply(lambda x: re.sub(pattern,'',x))\n",
    "print(df[\"SUMMARY\"].to_string(index = True))"
   ]
  },
  {
   "cell_type": "markdown",
   "id": "97e38918-7292-4803-84fa-e5c7e8634b62",
   "metadata": {},
   "source": [
    "Question 3- Create a function in python to find all words that are at least 4 characters long in a string. The use of the re.compile() method is mandatory."
   ]
  },
  {
   "cell_type": "code",
   "execution_count": 242,
   "id": "2165ba12-e797-440e-8162-684a24edc7eb",
   "metadata": {},
   "outputs": [
    {
     "name": "stdout",
     "output_type": "stream",
     "text": [
      "Given String: Hi! this string has more than two letter words also.\n",
      "['this', 'string', 'more', 'than', 'letter', 'words', 'also']\n"
     ]
    }
   ],
   "source": [
    "def findWords(text):\n",
    "    print(\"Given String:\",text)\n",
    "    pattern = re.compile(r\"\\b\\w{4,}\\b\")\n",
    "    return pattern.findall(text)\n",
    "\n",
    "string = 'Hi! this string has more than two letter words also.'\n",
    "result = findWords(string)\n",
    "print(result)"
   ]
  },
  {
   "cell_type": "markdown",
   "id": "3431ecb1-f176-44fe-8af8-8b7921e97d1b",
   "metadata": {},
   "source": [
    "Question 4- Create a function in python to find all three, four, and five character words in a string. The use of the re.compile() method is mandatory."
   ]
  },
  {
   "cell_type": "code",
   "execution_count": 236,
   "id": "0a8dc809-982e-4fcc-85ca-799f188ff259",
   "metadata": {},
   "outputs": [
    {
     "name": "stdout",
     "output_type": "stream",
     "text": [
      "Given String: Hi! this string has more than two letter words also.\n",
      "['this', 'has', 'more', 'than', 'two', 'words', 'also']\n"
     ]
    }
   ],
   "source": [
    "def findWords(text):\n",
    "    print(\"Given String:\",text)\n",
    "    pattern = re.compile(r\"\\b\\w{3,5}\\b\")\n",
    "    return pattern.findall(text)\n",
    "\n",
    "string = 'Hi! this string has more than two letter words also.'\n",
    "result = findWords(string)\n",
    "print(result)"
   ]
  },
  {
   "cell_type": "markdown",
   "id": "c46b5209-b72d-4688-8df0-a7fd1bfb66d0",
   "metadata": {},
   "source": [
    "Question 5- Create a function in Python to remove the parenthesis in a list of strings. The use of the re.compile() method is mandatory.\r\n",
    "Sample Text: [\"example (.com)\", \"hr@fliprobo (.com)\", \"github (.com)\", \"Hello (Data Science World)\", \"Data (Scientist)\"]\r\n",
    "Expected Output:\r\n",
    "example.com\r\n",
    "hr@fliprobo.com\r\n",
    "github.com\r\n",
    "Hello Data Science World\r\n",
    "Data Scentist\r\n"
   ]
  },
  {
   "cell_type": "code",
   "execution_count": 234,
   "id": "ba3209de-79b2-49ae-9331-450947457391",
   "metadata": {},
   "outputs": [
    {
     "name": "stdout",
     "output_type": "stream",
     "text": [
      "example.com\n",
      "hr@fliprobo.com\n",
      "github.com\n",
      "Hello Data Science World\n",
      "Data Scientist\n"
     ]
    }
   ],
   "source": [
    "def removeParanthesis(list):\n",
    "    pattern = re.compile(\"[()]\")       #pattern to remove paranthesis\n",
    "    pattern1 = re.compile(r\"\\s\\.\")      #pattern to remove space before .com in some of the words as per expected output\n",
    "    for item in list:\n",
    "        result = pattern.sub(\"\",item)\n",
    "        print(pattern1.sub(\".\",result)) \n",
    "\n",
    "sampleList =  [\"example (.com)\", \"hr@fliprobo (.com)\", \"github (.com)\", \"Hello (Data Science World)\", \"Data (Scientist)\"]\n",
    "removeParanthesis(sampleList)\n"
   ]
  },
  {
   "cell_type": "markdown",
   "id": "9d1c1d93-8c18-48f7-920f-d38ca56e3283",
   "metadata": {},
   "source": [
    "Question 6- Write a python program to remove the parenthesis area from the text stored in the text file using Regular Expression.\n",
    "Sample Text: [\"example (.com)\", \"hr@fliprobo (.com)\", \"github (.com)\", \"Hello (Data Science World)\", \"Data (Scientist)\"]\n",
    "Expected Output: [\"example\", \"hr@fliprobo\", \"github\", \"Hello\", \"Data\"]\n",
    "Note- Store given sample text in the text file and then to remove the parenthesis area from the text."
   ]
  },
  {
   "cell_type": "code",
   "execution_count": 3,
   "id": "798e3b9e-f744-4295-ba1b-10cd8b289953",
   "metadata": {},
   "outputs": [
    {
     "name": "stdout",
     "output_type": "stream",
     "text": [
      "[\"example (.com)\", \"hr@fliprobo (.com)\", \"github (.com)\", \"Hello (Data Science World)\", \"Data (Scientist)\"]\n",
      "[\"example\", \"hr@fliprobo\", \"github\", \"Hello\", \"Data\"]\n"
     ]
    }
   ],
   "source": [
    "#Opening and reading the contents of file\n",
    "txtFile = open(\"paranthesis_string6.txt\",\"r\")\n",
    "txt = txtFile.read()\n",
    "print(txt)\n",
    "\n",
    "#pattern to remove the parenthesis area from the text and replacing it with empty\n",
    "pattern = re.compile(r\"\\s*\\(.*?\\)\")\n",
    "result = pattern.sub(\"\",txt)\n",
    "\n",
    "#closing the file\n",
    "txtFile.close()\n",
    "print(result)\n",
    "\n",
    "#Opening and writing the modified text to the file and closing it\n",
    "#writeFile = open(\"paranthesis_string6.txt\",\"w\")\n",
    "#writeFile.write(result)\n",
    "#writeFile.close()"
   ]
  },
  {
   "cell_type": "markdown",
   "id": "8f169c2d-603f-47d5-a562-9d3c9c33265f",
   "metadata": {},
   "source": [
    "Question 7- Write a regular expression in Python to split a string into uppercase letters.\r\n",
    "Sample text: “ImportanceOfRegularExpressionsInPython”\r\n",
    "Expected Output: [‘Importance’, ‘Of’, ‘Regular’, ‘Expression’, ‘In’, ‘Python]\r\n"
   ]
  },
  {
   "cell_type": "code",
   "execution_count": 27,
   "id": "bf40c824-6c28-48ca-8eeb-e47403610443",
   "metadata": {},
   "outputs": [
    {
     "name": "stdout",
     "output_type": "stream",
     "text": [
      "Given text: ImportanceOfRegularExpressionsInPython\n",
      "['Importance', 'Of', 'Regular', 'Expressions', 'In', 'Python']\n"
     ]
    }
   ],
   "source": [
    "def splitUpperCaseLetters(string):\n",
    "    print(\"Given text:\",string)\n",
    "    splittedList = re.split(r\"([A-Z][a-z]*)\",string)\n",
    "    resultList = []\n",
    "    for word in splittedList:\n",
    "        if word:\n",
    "            resultList.append(word)\n",
    "    return resultList\n",
    "\n",
    "text = \"ImportanceOfRegularExpressionsInPython\"\n",
    "result = splitUpperCaseLetters(text)\n",
    "print(result)"
   ]
  },
  {
   "cell_type": "markdown",
   "id": "1e470f60-a172-4b64-b4aa-a14043c0df59",
   "metadata": {},
   "source": [
    "Question 8- Create a function in python to insert spaces between words starting with numbers.\r\n",
    "Sample Text: “RegularExpression1IsAn2ImportantTopic3InPython\"\r\n",
    "Expected Output: RegularExpression 1IsAn 2ImportantTopic 3InPythn\r\n",
    "]\r\n"
   ]
  },
  {
   "cell_type": "code",
   "execution_count": 23,
   "id": "720789b9-651e-406d-a93f-87d257914a6e",
   "metadata": {},
   "outputs": [
    {
     "name": "stdout",
     "output_type": "stream",
     "text": [
      "Given text: RegularExpression1IsAn2ImportantTopic3InPython\n",
      "RegularExpression 1IsAn 2ImportantTopic 3InPython\n"
     ]
    }
   ],
   "source": [
    "def insertSpaces(text):\n",
    "    print(\"Given text:\",text)\n",
    "    pattern = r\"([A-Za-z]*)(\\d+)\"\n",
    "    return re.sub(pattern,r\"\\1 \\2\",text)\n",
    "\n",
    "string = \"RegularExpression1IsAn2ImportantTopic3InPython\"\n",
    "result = insertSpaces(string)\n",
    "print(result)"
   ]
  },
  {
   "cell_type": "markdown",
   "id": "d9d8dae4-ed66-489b-b441-4c45a7dfb464",
   "metadata": {},
   "source": [
    "Question 9- Create a function in python to insert spaces between words starting with capital letters or with numbers.\r\n",
    "Sample Text: “RegularExpression1IsAn2ImportantTopic3InPython\"\r\n",
    "Expected Output:  RegularExpression 1 IsAn 2 ImportantTopic 3 InPython\r\n"
   ]
  },
  {
   "cell_type": "code",
   "execution_count": 25,
   "id": "a5e78dc3-25a2-4cbe-8707-5aae9df3a9ec",
   "metadata": {},
   "outputs": [
    {
     "name": "stdout",
     "output_type": "stream",
     "text": [
      "Given text: RegularExpression1IsAn2ImportantTopic3InPython\n",
      "RegularExpression 1 IsAn 2 ImportantTopic 3 InPython\n"
     ]
    }
   ],
   "source": [
    "def insertSpaces(text):\n",
    "    print(\"Given text:\",text)\n",
    "    pattern = r\"(\\d+|[A-Z][A-Za-z]*)\"\n",
    "    return re.sub(pattern,r\" \\1\",text).strip()\n",
    "\n",
    "string = \"RegularExpression1IsAn2ImportantTopic3InPython\"\n",
    "result = insertSpaces(string)\n",
    "print(result)"
   ]
  },
  {
   "cell_type": "markdown",
   "id": "31053c89-9482-4118-9731-63c4d35a5521",
   "metadata": {},
   "source": [
    "Question 10- Use the github link below to read the data and create a dataframe. After creating the dataframe extract the first 6 letters of each country and store in the dataframe under a new column called first_five_letters.\r\n",
    "Github Link-  https://raw.githubusercontent.com/dsrscientist/DSData/master/happiness_score_dataset.csv\r\n"
   ]
  },
  {
   "cell_type": "code",
   "execution_count": 319,
   "id": "dd16d059-b15e-43b7-a6cb-08b6abaeb824",
   "metadata": {},
   "outputs": [
    {
     "name": "stdout",
     "output_type": "stream",
     "text": [
      "Dataframe before adding first_five_letters coloumn:\n",
      "\n",
      "        Country          Region  Happiness Rank  Happiness Score  \\\n",
      "0  Switzerland  Western Europe               1            7.587   \n",
      "1      Iceland  Western Europe               2            7.561   \n",
      "\n",
      "   Standard Error  Economy (GDP per Capita)   Family  \\\n",
      "0         0.03411                   1.39651  1.34951   \n",
      "1         0.04884                   1.30232  1.40223   \n",
      "\n",
      "   Health (Life Expectancy)  Freedom  Trust (Government Corruption)  \\\n",
      "0                   0.94143  0.66557                        0.41978   \n",
      "1                   0.94784  0.62877                        0.14145   \n",
      "\n",
      "   Generosity  Dystopia Residual  \n",
      "0     0.29678            2.51738  \n",
      "1     0.43630            2.70201  \n",
      "\n",
      "\n",
      "Dataframe after adding first_five_letters coloumn:\n",
      "\n",
      "        Country          Region  Happiness Rank  Happiness Score  \\\n",
      "0  Switzerland  Western Europe               1            7.587   \n",
      "1      Iceland  Western Europe               2            7.561   \n",
      "\n",
      "   Standard Error  Economy (GDP per Capita)   Family  \\\n",
      "0         0.03411                   1.39651  1.34951   \n",
      "1         0.04884                   1.30232  1.40223   \n",
      "\n",
      "   Health (Life Expectancy)  Freedom  Trust (Government Corruption)  \\\n",
      "0                   0.94143  0.66557                        0.41978   \n",
      "1                   0.94784  0.62877                        0.14145   \n",
      "\n",
      "   Generosity  Dystopia Residual first_five_letters  \n",
      "0     0.29678            2.51738             Switze  \n",
      "1     0.43630            2.70201             Icelan  \n"
     ]
    }
   ],
   "source": [
    "#github link below to read the data and create a dataframe\n",
    "url = \"https://raw.githubusercontent.com/dsrscientist/DSData/master/happiness_score_dataset.csv\"\n",
    "df = pd.read_csv(url)\n",
    "print(\"Dataframe before adding first_five_letters coloumn:\\n\\n\",df.head(2))\n",
    "\n",
    "#extract the first 6 letters of each country and store in the dataframe under a new column called first_five_letters\n",
    "df['first_five_letters'] = df['Country'].str[:6]\n",
    "print(\"\\n\\nDataframe after adding first_five_letters coloumn:\\n\\n\",df.head(2))"
   ]
  },
  {
   "cell_type": "markdown",
   "id": "fd65cf7f-bda3-4e04-bc77-73bc3e655eb4",
   "metadata": {},
   "source": [
    "Question 11- Write a Python program to match a string that contains only upper and lowercase letters, numbers, and underscores."
   ]
  },
  {
   "cell_type": "code",
   "execution_count": 81,
   "id": "2b7375b4-5e25-42ee-bfb8-912a2e2cf2ee",
   "metadata": {},
   "outputs": [
    {
     "name": "stdout",
     "output_type": "stream",
     "text": [
      "\n",
      "The String: Hi_this_String_contains_UPPERCASE_lowercase_letters_123____100\n",
      "Result: Match Found, the string contains only upper and lowercase letters, numbers, and underscores.\n",
      "\n",
      "The String: hellooo World!!\n",
      "Result: Match Not Found, the string contains other than upper and lowercase letters, numbers, and underscores.\n"
     ]
    }
   ],
   "source": [
    "def matchStringToWord(string):\n",
    "    pattern = r\"^\\w+$\"\n",
    "    if re.search(pattern,string):\n",
    "        return \"Match Found, the string contains only upper and lowercase letters, numbers, and underscores.\"\n",
    "    else:\n",
    "        return \"Match Not Found, the string contains other than upper and lowercase letters, numbers, and underscores.\"\n",
    "\n",
    "text = \"Hi_this_String_contains_UPPERCASE_lowercase_letters_123____100\"\n",
    "print(f\"\\nThe String: {text}\\nResult: {matchStringToWord(text)}\")\n",
    "\n",
    "text2 = \"hellooo World!!\"\n",
    "print(f\"\\nThe String: {text2}\\nResult: {matchStringToWord(text2)}\")"
   ]
  },
  {
   "cell_type": "markdown",
   "id": "6a00cdb6-85a8-485b-b31e-3c7ec5b6c49e",
   "metadata": {},
   "source": [
    "Question 12- Write a Python program where a string will start with a specific number. "
   ]
  },
  {
   "cell_type": "code",
   "execution_count": 79,
   "id": "10f0a2ba-3cb1-4ffd-8100-dccc01e55935",
   "metadata": {},
   "outputs": [
    {
     "name": "stdout",
     "output_type": "stream",
     "text": [
      "\n",
      "The Specified Number: 718\n",
      "The String: 7188abcd\n",
      "Result: Match Found, the string start with a specified number 718\n",
      "\n",
      "The Specified Number: 234\n",
      "The String: a1bcd23\n",
      "Result: Match Not Found, the string not start with a specified number 234\n"
     ]
    }
   ],
   "source": [
    "def matchStringWithPattern(string, num):\n",
    "    print(\"\\nThe Specified Number:\",num)\n",
    "    number_str = str(num)\n",
    "    if re.match(number_str,string):\n",
    "        return f\"Match Found, the string start with a specified number {num}\"\n",
    "    else:\n",
    "        return f\"Match Not Found, the string not start with a specified number {num}\"\n",
    "\n",
    "text = \"7188abcd\"\n",
    "print(f\"The String: {text}\\nResult: {matchStringWithPattern(text, 718)}\")\n",
    "\n",
    "text2 = \"a1bcd23\"\n",
    "print(f\"The String: {text2}\\nResult: {matchStringWithPattern(text2, 234)}\")"
   ]
  },
  {
   "cell_type": "markdown",
   "id": "c0bf8703-bce2-40fc-a42a-955a99e58ce1",
   "metadata": {},
   "source": [
    "Question 13- Write a Python program to remove leading zeros from an IP address"
   ]
  },
  {
   "cell_type": "code",
   "execution_count": 77,
   "id": "f8f303e1-52eb-480c-8a49-13ef4e09e647",
   "metadata": {},
   "outputs": [
    {
     "name": "stdout",
     "output_type": "stream",
     "text": [
      "\n",
      "IPAddress: 0000109.01068.1.01\n",
      "After removing leading zeros: 109.1068.1.1\n",
      "\n",
      "IPAddress: 109.168.1.1\n",
      "There are no leading Zeros in the given ipaddress\n"
     ]
    }
   ],
   "source": [
    "def removeLeadingZeros(ipAddress):\n",
    "    pattern = r\"\\b0+(\\d*)\\b\"\n",
    "    if re.search(pattern,ipAddress):\n",
    "        result = re.sub(pattern,r\"\\1\",ipAddress)\n",
    "        return f\"\\nIPAddress: {ipAddress}\\nAfter removing leading zeros: {result}\"\n",
    "    else:\n",
    "        return f\"\\nIPAddress: {ipAddress}\\nThere are no leading Zeros in the given ipaddress\"\n",
    "\n",
    "print(removeLeadingZeros(\"0000109.01068.1.01\"))\n",
    "print(removeLeadingZeros(\"109.168.1.1\"))"
   ]
  },
  {
   "cell_type": "markdown",
   "id": "ac35c8fd-cb70-4837-b2b7-1c1ec8616527",
   "metadata": {},
   "source": [
    "Question 14- Write a regular expression in python to match a date string in the form of Month name followed by day number and year stored in a text file.\r\n",
    "Sample text :   On August 15th 1947 that India was declared independent from British colonialism, and the reins of control were handed over to the leaders of the Country’.\r\n",
    "Expected Output- August 15th 1947\r\n",
    "Note- Store given sample text in the text file and then extract the date string asked formt.\r\n"
   ]
  },
  {
   "cell_type": "code",
   "execution_count": 296,
   "id": "1080230c-8c0f-44b5-8238-e73bf9ff5ad4",
   "metadata": {},
   "outputs": [
    {
     "name": "stdout",
     "output_type": "stream",
     "text": [
      "String: 'On August 15th 1947 that India was declared independent from British colonialism, and the reins of control were handed over to the leaders of the Country'.\n",
      "Dates: ['August 15th 1947']\n"
     ]
    }
   ],
   "source": [
    "def extractDatesFromText(filePath):\n",
    "    #file open and read the contents and close\n",
    "    with open(filePath,\"r\") as txtFile:\n",
    "        text = txtFile.read()\n",
    "    print(\"String:\",text)\n",
    "    \n",
    "    #pattern to find dates in the string which are in the form of Month name followed by day number and year\n",
    "    pattern = r\"\\b([A-Z][a-z]+ \\d{1,2}(?:th|nd|rd)? \\d{4})\\b\"\n",
    "    return re.findall(pattern,text)\n",
    "\n",
    "dates = extractDatesFromText(\"date_string14.txt\")\n",
    "if dates:\n",
    "    print(\"Dates:\",dates)\n",
    "else:\n",
    "    print(\"There are no dates in the string\")"
   ]
  },
  {
   "cell_type": "markdown",
   "id": "0f19d192-509b-435c-80f2-8445b92d4ccc",
   "metadata": {},
   "source": [
    "Question 15- Write a Python program to search some literals strings in a string. \r\n",
    "Sample text : 'The quick brown fox jumps over the lazy dog.'\r\n",
    "Searched words \"fox\",\"dog\",\"horse\"'\r\n"
   ]
  },
  {
   "cell_type": "code",
   "execution_count": 192,
   "id": "610bf4bc-097f-4b65-b05a-a8ae530a0626",
   "metadata": {},
   "outputs": [
    {
     "name": "stdout",
     "output_type": "stream",
     "text": [
      "The given string: The quick brown fox jumps over the lazy dog.\n",
      "Searched Words: ['fox', 'dog', 'horse']\n",
      "Searched Words present in the given string are: ['fox', 'dog']\n"
     ]
    }
   ],
   "source": [
    "def searchLiteralsStringInString(text, searchedWords):\n",
    "    matchedWords = []\n",
    "    print(f\"The given string: {text}\")\n",
    "    print(f\"Searched Words: {searchedWords}\")\n",
    "    for word in searchedWords:\n",
    "        searchResult = re.search(word,text)\n",
    "        if searchResult:\n",
    "            matchedWords.append(searchResult.group())\n",
    "    return matchedWords\n",
    "    \n",
    "searchedWords = [\"fox\",\"dog\",\"horse\"]\n",
    "text = 'The quick brown fox jumps over the lazy dog.'\n",
    "result = searchLiteralsStringInString(text, searchedWords)\n",
    "\n",
    "if result:\n",
    "    print(f\"Searched Words present in the given string are: {result}\")\n",
    "else:\n",
    "    print(f\"Searched Words are not present in the given string\")"
   ]
  },
  {
   "cell_type": "markdown",
   "id": "10ef6f92-264b-49e7-917e-cb50407944fb",
   "metadata": {},
   "source": [
    "Question 16- Write a Python program to search a literals string in a string and also find the location within the original string where the pattern occurs\r\n",
    "Sample text : 'The quick brown fox jumps over the lazy dog.'\r\n",
    "Searched words 'fox''\r\n"
   ]
  },
  {
   "cell_type": "code",
   "execution_count": 184,
   "id": "d37b22c3-03e7-4810-af84-53bc7bacdfac",
   "metadata": {},
   "outputs": [
    {
     "name": "stdout",
     "output_type": "stream",
     "text": [
      "The given string: The quick brown fox jumps over the lazy dog.\n",
      "Searched Words: ['fox']\n",
      "The word fox match is found at position 16\n"
     ]
    }
   ],
   "source": [
    "def searchLiteralsStringInStringWithPosition(text, searchedWords):\n",
    "    print(f\"The given string: {text}\")\n",
    "    print(f\"Searched Words: {searchedWords}\")\n",
    "    for word in searchedWords:\n",
    "        searchResult = re.search(word,text)\n",
    "        if searchResult:\n",
    "            print(f\"The word {word} match is found at position {searchResult.start()}\")\n",
    "        else:\n",
    "            print(f\"The word {word} match is not found in the string\")\n",
    "\n",
    "searchedWords = [\"fox\"]\n",
    "text = 'The quick brown fox jumps over the lazy dog.'\n",
    "searchLiteralsStringInStringWithPosition(text, searchedWords)"
   ]
  },
  {
   "cell_type": "markdown",
   "id": "9afc3b59-7d71-41fb-aa10-c29eeff3fddf",
   "metadata": {},
   "source": [
    "Question 17- Write a Python program to find the substrings within a string.\r\n",
    "Sample text : 'Python exercises, PHP exercises, C# exercises'\r\n",
    "Pattern : 'exercises.\r\n"
   ]
  },
  {
   "cell_type": "code",
   "execution_count": 71,
   "id": "b4205a14-bfb4-4567-9596-f20a63457518",
   "metadata": {},
   "outputs": [
    {
     "name": "stdout",
     "output_type": "stream",
     "text": [
      "\n",
      "The given string: Python exercises, PHP exercises, C# exercises\n",
      "3 occurences of given substring exercises found in the string\n",
      "\n",
      "The given string: Python exercises, PHP exercises, C# exercises\n",
      "substring assignment not found in the string\n"
     ]
    }
   ],
   "source": [
    "def findSubStrings(text, sub_string):\n",
    "    print(f\"\\nThe given string: {text}\")\n",
    "    subStrings = re.findall(sub_string,text)\n",
    "    if subStrings:\n",
    "        print(f\"{len(subStrings)} occurences of given substring {sub_string} found in the string\")\n",
    "    else:\n",
    "        print(f\"substring {sub_string} not found in the string\")\n",
    "\n",
    "text = 'Python exercises, PHP exercises, C# exercises'\n",
    "sub_string = \"exercises\"\n",
    "findSubStrings(text,sub_string)\n",
    "findSubStrings(text,\"assignment\")"
   ]
  },
  {
   "cell_type": "markdown",
   "id": "2012b603-ce27-49e5-831d-f579ec4bfd4e",
   "metadata": {},
   "source": [
    "Question 18- Write a Python program to find the occurrence and position of the substrings within a string."
   ]
  },
  {
   "cell_type": "code",
   "execution_count": 69,
   "id": "a26f2677-5947-4b45-9bbb-bcd6e6e31510",
   "metadata": {},
   "outputs": [
    {
     "name": "stdout",
     "output_type": "stream",
     "text": [
      "\n",
      "The given string: Python exercises, PHP exercises, C# exercises\n",
      "The substring exercises found at positions [7, 22, 36] in the string\n",
      "\n",
      "The given string: Python exercises, PHP exercises, C# exercises\n",
      "substring Tasks not found in the string\n"
     ]
    }
   ],
   "source": [
    "def findSubstringsandPosition(text,sub_string):\n",
    "    print(f\"\\nThe given string: {text}\")\n",
    "    subStrings = re.finditer(sub_string,text)\n",
    "    positions = []\n",
    "    for string in subStrings:\n",
    "        positions.append(string.start())\n",
    "    \n",
    "    if positions:\n",
    "        print(f\"The substring {sub_string} found at positions {positions} in the string\")\n",
    "    else:\n",
    "        print(f\"substring {sub_string} not found in the string\")\n",
    "\n",
    "findSubstringsandPosition('Python exercises, PHP exercises, C# exercises', \"exercises\")\n",
    "findSubstringsandPosition('Python exercises, PHP exercises, C# exercises', \"Tasks\")"
   ]
  },
  {
   "cell_type": "markdown",
   "id": "bb683a6a-346d-4eaa-963a-47fd536617f5",
   "metadata": {},
   "source": [
    "Question 19- Write a Python program to convert a date of yyyy-mm-dd format to dd-mm-yyyy format."
   ]
  },
  {
   "cell_type": "code",
   "execution_count": 76,
   "id": "1f106393-9947-48bb-a9b8-dadc5c076583",
   "metadata": {},
   "outputs": [
    {
     "name": "stdout",
     "output_type": "stream",
     "text": [
      "Orginal Date: 2012-11-12\n",
      "Formatted Date: 12-11-2012\n",
      "Formatted Date: 12-11-2012\n"
     ]
    }
   ],
   "source": [
    "orginalDate = '2012-11-12'\n",
    "print(\"Orginal Date:\",orginalDate)\n",
    "\n",
    "# Method1\n",
    "dateList = re.split(r\"\\-\",orginalDate)\n",
    "formattedDate = \"-\".join(dateList[::-1])\n",
    "print(\"Formatted Date:\",formattedDate)\n",
    "\n",
    "# Method2\n",
    "pattern = r\"(\\d{4})-(\\d{2})-(\\d{2})\"\n",
    "formattedDate = re.sub(pattern,r\"\\3-\\2-\\1\",orginalDate)\n",
    "print(\"Formatted Date:\",formattedDate)"
   ]
  },
  {
   "cell_type": "markdown",
   "id": "c57ac15b-c297-4053-a5d4-05ad1d0b6e7a",
   "metadata": {},
   "source": [
    "Question 20- Create a function in python to find all decimal numbers with a precision of 1 or 2 in a string. The use of the re.compile() method is mandatory.\r\n",
    "Sample Text: \"01.12 0132.123 2.31875 145.8 3.01 27.25 0.25\"\r\n",
    "Expected Output: ['01.12', '145.8', '3.01', '27.25', '0.25']\r\n",
    "]\r\n"
   ]
  },
  {
   "cell_type": "code",
   "execution_count": 227,
   "id": "3084954e-9094-4412-bacb-25836de005ba",
   "metadata": {},
   "outputs": [
    {
     "name": "stdout",
     "output_type": "stream",
     "text": [
      "Given String: 01.12 0132.123 2.31875 145.8 3.01 27.25 0.25\n",
      "The List of decimal numbers with a precision of 1 or 2 in a string: ['01.12', '145.8', '3.01', '27.25', '0.25']\n"
     ]
    }
   ],
   "source": [
    "def findSpecifiedDecimalNumbers(text):\n",
    "    print(\"Given String:\",text)\n",
    "    pattern = re.compile(r\"\\b\\d+\\.\\d{1,2}\\b\")\n",
    "    return pattern.findall(text)\n",
    "\n",
    "text = \"01.12 0132.123 2.31875 145.8 3.01 27.25 0.25\"\n",
    "print(\"The List of decimal numbers with a precision of 1 or 2 in a string:\",findSpecifiedDecimalNumbers(text))"
   ]
  },
  {
   "cell_type": "markdown",
   "id": "61cafe3e-7b8a-4125-8056-440d53244204",
   "metadata": {},
   "source": [
    "Question 21- Write a Python program to separate and print the numbers and their position of a given string."
   ]
  },
  {
   "cell_type": "code",
   "execution_count": 61,
   "id": "07eac846-99fe-4ec6-b081-281e157baa29",
   "metadata": {},
   "outputs": [
    {
     "name": "stdout",
     "output_type": "stream",
     "text": [
      "\n",
      "Given String: RegularExpression 1 IsAn 2ImportantTopic 3 InPython and On August 15th 1947 that India was declared independent from British colonialism\n",
      "The number: 1 Position: 18\n",
      "The number: 2 Position: 25\n",
      "The number: 3 Position: 41\n",
      "The number: 15 Position: 66\n",
      "The number: 1947 Position: 71\n",
      "\n",
      "Given String: Python exercises, PHP exercises, C# exercises\n",
      "No numbers in the given string\n"
     ]
    }
   ],
   "source": [
    "def separateNumbers(string):\n",
    "    print(\"\\nGiven String:\",string)\n",
    "    pattern = r\"\\d+\"\n",
    "    result = re.finditer(pattern,string)\n",
    "    #Converting result object to list so that it will be easy to check when there are no numbers in the list\n",
    "    resultList = list(result)\n",
    "    if not resultList:\n",
    "        print(\"No numbers in the given string\")\n",
    "    else:\n",
    "        for object in resultList:\n",
    "            print(f\"The number: {object.group()} Position: {object.start()}\")\n",
    "\n",
    "text = \"RegularExpression 1 IsAn 2ImportantTopic 3 InPython and On August 15th 1947 that India was declared independent from British colonialism\"\n",
    "separateNumbers(text)\n",
    "\n",
    "text1 = \"Python exercises, PHP exercises, C# exercises\"\n",
    "separateNumbers(text1)"
   ]
  },
  {
   "cell_type": "markdown",
   "id": "83456419-826a-4ae5-a849-c239c016cc8a",
   "metadata": {},
   "source": [
    "Question 22- Write a regular expression in python program to extract maximum/largest numeric value from a string.\r\n",
    "Sample Text:  'My marks in each semester are: 947, 896, 926, 524, 734, 950, 642'\r\n",
    "Expected Output: 950\r\n"
   ]
  },
  {
   "cell_type": "code",
   "execution_count": 83,
   "id": "7e5b6e65-ae47-41bc-a1aa-50e5f8479bf8",
   "metadata": {},
   "outputs": [
    {
     "name": "stdout",
     "output_type": "stream",
     "text": [
      "\n",
      "Given String: My marks in each semester are: 947, 896, 926, 524, 734, 950, 642\n",
      "Numbers: [947, 896, 926, 524, 734, 950, 642]\n",
      "Maximum number: 950\n",
      "\n",
      "Given String: My marks in each semester are: 94.7, 896, 9.26, -5, -7.34, 950, 1000\n",
      "Numbers: [94.7, 896, 9.26, 5, 7.34, 950, 1000]\n",
      "Maximum number: 1000\n",
      "\n",
      "Given String: Python exercises, PHP exercises, C# exercises\n",
      "No numbers in the given string\n"
     ]
    }
   ],
   "source": [
    "def findMaximumNumber(text):\n",
    "    print(\"\\nGiven String:\",text)\n",
    "    #pattern to find the numbers(whole negative and decimal also)\n",
    "    pattern = r\"\\b\\-?\\d+\\.?\\d*\\b\"\n",
    "    numbersList = re.findall(pattern,text)\n",
    "    \n",
    "    if numbersList:\n",
    "        numbers = []\n",
    "        for number in numbersList:\n",
    "            if '.' in number:\n",
    "                numbers.append(float(number))\n",
    "            else:\n",
    "                numbers.append(int(number))\n",
    "        print(\"Numbers:\", numbers)\n",
    "        print(\"Maximum number:\", max(numbers))\n",
    "    else:\n",
    "        print(\"No numbers in the given string\")\n",
    "        \n",
    "string = 'My marks in each semester are: 947, 896, 926, 524, 734, 950, 642'\n",
    "findMaximumNumber(string)\n",
    "\n",
    "string1 = 'My marks in each semester are: 94.7, 896, 9.26, -5, -7.34, 950, 1000'\n",
    "findMaximumNumber(string1)\n",
    "\n",
    "string2 = \"Python exercises, PHP exercises, C# exercises\"\n",
    "findMaximumNumber(string2)"
   ]
  },
  {
   "cell_type": "markdown",
   "id": "e4e9193a-3123-49f6-90bf-738a36f127ac",
   "metadata": {},
   "source": [
    "Question 23- Create a function in python to insert spaces between words starting with capital letters.\r\n",
    "Sample Text: “RegularExpressionIsAnImportantTopicInPython\"\r\n",
    "Expected Output: Regular Expression Is An Important Topic In Python\r\n"
   ]
  },
  {
   "cell_type": "code",
   "execution_count": 220,
   "id": "6c3332da-410f-4076-b85c-85732bd1c71b",
   "metadata": {},
   "outputs": [
    {
     "name": "stdout",
     "output_type": "stream",
     "text": [
      "Given String: RegularExpressionIsAnImportantTopicInPython\n",
      "Regular Expression Is An Important Topic In Python\n"
     ]
    }
   ],
   "source": [
    "def insertSpacesForCapital(text):\n",
    "    print(\"Given String:\",text)\n",
    "    pattern = r\"([A-Z]+)\"\n",
    "    return re.sub(pattern,r\" \\1\",text).strip() #strip() is used to remove leading spaces for the string as it starts with capitalLetter\n",
    "\n",
    "string = \"RegularExpressionIsAnImportantTopicInPython\"\n",
    "result = insertSpacesForCapital(string)\n",
    "print(result)"
   ]
  },
  {
   "cell_type": "markdown",
   "id": "53d0eca5-7729-4243-963a-70898e1891b5",
   "metadata": {},
   "source": [
    "Question 24- Python regex to find sequences of one upper case letter followed by lower case letters"
   ]
  },
  {
   "cell_type": "code",
   "execution_count": 51,
   "id": "b3abb46e-a11b-494d-948c-83a03428cf22",
   "metadata": {},
   "outputs": [
    {
     "name": "stdout",
     "output_type": "stream",
     "text": [
      "\n",
      "Given String: my marks in each semester are: 947, 896, 926, 524, 734, 950, 642\n",
      "There are no sequences of one upper case letter followed by lower case letters\n",
      "\n",
      "Given String: Python exercises, PHP exercises, Coding exercises\n",
      "Sequences: ['Python', 'Coding']\n"
     ]
    }
   ],
   "source": [
    "def findSpecifiedSequence(text):\n",
    "    print(\"\\nGiven String:\",text)\n",
    "    sequences = re.findall(\"[A-Z][a-z]+\",text)\n",
    "    if sequences:\n",
    "        print(\"Sequences:\", sequences)\n",
    "    else:\n",
    "        print(\"There are no sequences of one upper case letter followed by lower case letters\")\n",
    "        \n",
    "string = 'my marks in each semester are: 947, 896, 926, 524, 734, 950, 642'\n",
    "findSpecifiedSequence(string)\n",
    "\n",
    "string2 = \"Python exercises, PHP exercises, Coding exercises\"\n",
    "findSpecifiedSequence(string2)"
   ]
  },
  {
   "cell_type": "markdown",
   "id": "7bdb3c16-2ad9-42ab-bef9-9e3d78ea23ef",
   "metadata": {},
   "source": [
    "Question 25- Write a Python program to remove continuous duplicate words from Sentence using Regular Expression.\r\n",
    "Sample Text: \"Hello hello world world\"\r\n",
    "Expected Output: Hello hello world\r\n"
   ]
  },
  {
   "cell_type": "code",
   "execution_count": 314,
   "id": "630cc4b5-01e1-4d6f-ae02-7e1a46553a94",
   "metadata": {},
   "outputs": [
    {
     "name": "stdout",
     "output_type": "stream",
     "text": [
      "The given String: Hello hello world world\n",
      "Result: Hello hello world\n"
     ]
    }
   ],
   "source": [
    "def removeContinuousDuplicateWords(string):\n",
    "    print(\"The given String:\",string)\n",
    "    pattern = r\"(\\w+)(\\s+\\1)+\"\n",
    "    result = re.sub(pattern,r\"\\1\",text)\n",
    "    print(\"Result:\",result)\n",
    "\n",
    "text = \"Hello hello world world\"\n",
    "removeContinuousDuplicateWords(text)"
   ]
  },
  {
   "cell_type": "markdown",
   "id": "e5a9cf2f-c054-4318-8452-85897e7151de",
   "metadata": {},
   "source": [
    "Question 26-  Write a python program using RegEx to accept string ending with alphanumeric character."
   ]
  },
  {
   "cell_type": "code",
   "execution_count": 53,
   "id": "34dfa289-11f5-4e9a-83a4-56c5af62af41",
   "metadata": {},
   "outputs": [
    {
     "name": "stdout",
     "output_type": "stream",
     "text": [
      "\n",
      "Given String:  Hello hello world\n",
      "The string is ending with alphanumeric character\n",
      "\n",
      "Given String:  Hello hello world@\n",
      "The string is not ending with alphanumeric character\n"
     ]
    }
   ],
   "source": [
    "def checkEndingChar(text):\n",
    "    print(\"\\nGiven String: \",text)\n",
    "    pattern = r\"[A-Za-z0-9]\\Z\"\n",
    "    if re.search(pattern,text):\n",
    "        print(\"The string is ending with alphanumeric character\")\n",
    "    else:\n",
    "        print(\"The string is not ending with alphanumeric character\") \n",
    "\n",
    "string = \"Hello hello world\"\n",
    "checkEndingChar(string)\n",
    "\n",
    "string2 = \"Hello hello world@\"\n",
    "checkEndingChar(string2)"
   ]
  },
  {
   "cell_type": "markdown",
   "id": "75f48ebd-3c4b-469c-af52-118f40750c1b",
   "metadata": {},
   "source": [
    "Question 27-Write a python program using RegEx to extract the hashtags.\r\n",
    "Sample Text:  \"\"\"RT @kapil_kausik: #Doltiwal I mean #xyzabc is \"hurt\" by #Demonetization as the same has rendered USELESS <ed><U+00A0><U+00BD><ed><U+00B1><U+0089> \"acquired funds\" No wo\"\"\"\r\n",
    "Expected Output: ['#Doltiwal', '#xyzabc', '#Demonetization']\r\n"
   ]
  },
  {
   "cell_type": "code",
   "execution_count": 431,
   "id": "753490c0-2faf-4350-88fe-09bd12299703",
   "metadata": {},
   "outputs": [
    {
     "name": "stdout",
     "output_type": "stream",
     "text": [
      "Hashtags: ['#Doltiwal', '#xyzabc', '#Demonetization']\n"
     ]
    }
   ],
   "source": [
    "text = \"\"\"RT @kapil_kausik: #Doltiwal I mean #xyzabc is \"hurt\" by #Demonetization as the same has rendered USELESS <ed><U+00A0><U+00BD><ed><U+00B1><U+0089> \"acquired funds\" No wo\"\"\"\n",
    "\n",
    "#Pattern to find hashtags\n",
    "pattern = r\"(#[\\w\\W]+?)\\s\"   #another pattern r\"#\\S+ this also works same\"\n",
    "hashtags = re.findall(pattern,text)\n",
    "\n",
    "print(\"Hashtags:\",hashtags)"
   ]
  },
  {
   "cell_type": "markdown",
   "id": "39925f1a-0b3f-43a0-afee-2c68b6fe273d",
   "metadata": {},
   "source": [
    "Question 28- Write a python program using RegEx to remove <U+..> like symbols\r\n",
    "Check the below sample text, there are strange symbols something of the sort <U+..> all over the place. You need to come up with a general Regex expression that will cover all such symbols.\r\n",
    "Sample Text: \"@Jags123456 Bharat band on 28??<ed><U+00A0><U+00BD><ed><U+00B8><U+0082>Those who  are protesting #demonetization  are all different party leaders\"\r\n",
    "Expected Output: @Jags123456 Bharat band on 28??<ed><ed>Those who  are protesting #demonetization  are all different party leaders\r\n"
   ]
  },
  {
   "cell_type": "code",
   "execution_count": 29,
   "id": "af0c3a5b-d1ce-4425-82df-d6ce059b65e1",
   "metadata": {},
   "outputs": [
    {
     "name": "stdout",
     "output_type": "stream",
     "text": [
      "Given text: @Jags123456 Bharat band on 28??<ed><U+00A0><U+00BD><ed><U+00B8><U+0082>Those who  are protesting #demonetization  are all different party leaders\n",
      "Altered text: @Jags123456 Bharat band on 28??<ed><ed>Those who  are protesting #demonetization  are all different party leaders\n"
     ]
    }
   ],
   "source": [
    "def removeSpecificSymbols(text):\n",
    "    print(\"Given text:\",text)\n",
    "    pattern = r\"<U\\+.*?>+\"        #Another Pattern r\"<U\\+[^>]+>+\" \n",
    "    print(\"Altered text:\",re.sub(pattern,\"\",text))\n",
    "\n",
    "text = \"@Jags123456 Bharat band on 28??<ed><U+00A0><U+00BD><ed><U+00B8><U+0082>Those who  are protesting #demonetization  are all different party leaders\"\n",
    "removeSpecificSymbols(text)"
   ]
  },
  {
   "cell_type": "markdown",
   "id": "8f90aa8e-75c1-44b2-b5b4-0478a08823b0",
   "metadata": {},
   "source": [
    "Question 29- Write a python program to extract dates from the text stored in the text file.\r\n",
    "Sample Text: Ron was born on 12-09-1992 and he was admitted to school 15-12-1999.\r\n",
    "Note- Store this sample text in the file and then extract dates.\r\n"
   ]
  },
  {
   "cell_type": "code",
   "execution_count": 284,
   "id": "26e514c7-2540-4a42-b6a1-780dba85d821",
   "metadata": {},
   "outputs": [
    {
     "name": "stdout",
     "output_type": "stream",
     "text": [
      "String: Ron was born on 12-09-1992 and he was admitted to school 15-12-1999.\n",
      "Dates: ['12-09-1992', '15-12-1999']\n"
     ]
    }
   ],
   "source": [
    "def extractDatesFromText(filePath):\n",
    "    #file open and read the contents and close\n",
    "    with open(filePath,\"r\") as txtFile:\n",
    "        text = txtFile.read()\n",
    "    print(\"String:\",text)\n",
    "    \n",
    "    #pattern to find dates in the string which are in dd-mm-yyyy or yyyy-mm-dd format\n",
    "    pattern = r\"\\d{2}-\\d{2}-\\d{4}|\\d{4}-\\d{2}-\\d{2}\"\n",
    "    return re.findall(pattern,text)\n",
    "\n",
    "dates = extractDatesFromText(\"datesString29.txt\")\n",
    "if dates:\n",
    "    print(\"Dates:\",dates)\n",
    "else:\n",
    "    print(\"There are no dates in the string\")"
   ]
  },
  {
   "cell_type": "markdown",
   "id": "be8bec9e-8c18-406b-ad61-fcfea5d0b3af",
   "metadata": {},
   "source": [
    "Question 30- Create a function in python to remove all words from a string of length between 2 and 4.\r\n",
    "The use of the re.compile() method is mandatory.\r\n",
    "Sample Text: \"The following example creates an ArrayList with a capacity of 50 elements. 4 elements are then added to the ArrayList and the ArrayList is trimmed accordingly.\"\r\n",
    "Expected Output:  following example creates ArrayList a capacity elements. 4 elements added ArrayList ArrayList trimmed accordingly.\r\n"
   ]
  },
  {
   "cell_type": "code",
   "execution_count": 153,
   "id": "f1f13f3e-2c64-453f-916f-b9a86baaa362",
   "metadata": {},
   "outputs": [
    {
     "name": "stdout",
     "output_type": "stream",
     "text": [
      "Given text:  The following example creates an ArrayList with a capacity of 50 elements. 4 elements are then added to the ArrayList and the ArrayList is trimmed accordingly.\n",
      "Result: following example creates ArrayList a capacity elements. 4 elements added ArrayList ArrayList trimmed accordingly.\n"
     ]
    }
   ],
   "source": [
    "def findWordsOfSpecificLength(text):\n",
    "    print(\"Given text: \",text)\n",
    "    \n",
    "    #pattern to remove all words from a string of length between 2 and 4\n",
    "    pattern = re.compile(r\"\\b\\w{2,4}\\b\")\n",
    "    result = pattern.sub(\"\",text)\n",
    "    #pattern to remove extra spaces\n",
    "    result = re.sub(\"\\s+\",\" \",result).strip()\n",
    "    return result\n",
    "\n",
    "string = \"The following example creates an ArrayList with a capacity of 50 elements. 4 elements are then added to the ArrayList and the ArrayList is trimmed accordingly.\"\n",
    "result = findWordsOfSpecificLength(string)\n",
    "print(\"Result:\",result)"
   ]
  }
 ],
 "metadata": {
  "kernelspec": {
   "display_name": "Python 3 (ipykernel)",
   "language": "python",
   "name": "python3"
  },
  "language_info": {
   "codemirror_mode": {
    "name": "ipython",
    "version": 3
   },
   "file_extension": ".py",
   "mimetype": "text/x-python",
   "name": "python",
   "nbconvert_exporter": "python",
   "pygments_lexer": "ipython3",
   "version": "3.11.5"
  }
 },
 "nbformat": 4,
 "nbformat_minor": 5
}
