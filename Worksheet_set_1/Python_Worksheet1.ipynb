{
 "cells": [
  {
   "cell_type": "markdown",
   "id": "2d1da88e-8a34-4126-8f8e-c9e823e39f14",
   "metadata": {},
   "source": [
    "1. Which of the following operators is used to calculate remainder in a division?\n",
    "\n",
    "   C) %"
   ]
  },
  {
   "cell_type": "markdown",
   "id": "7b8afdbd-f53a-4862-b73a-6046bb5f1400",
   "metadata": {},
   "source": [
    "2. In python 2//3 is equal to?"
   ]
  },
  {
   "cell_type": "code",
   "execution_count": 1,
   "id": "ff54c1ec-2d85-49d8-8ef2-7b1775b32783",
   "metadata": {},
   "outputs": [
    {
     "data": {
      "text/plain": [
       "0"
      ]
     },
     "execution_count": 1,
     "metadata": {},
     "output_type": "execute_result"
    }
   ],
   "source": [
    "2//3"
   ]
  },
  {
   "cell_type": "markdown",
   "id": "74f33762-8a46-46ab-ac34-a73b99061cd7",
   "metadata": {},
   "source": [
    "3. In python, 6<<2 is equal to?"
   ]
  },
  {
   "cell_type": "code",
   "execution_count": 3,
   "id": "2dbcd4b5-2a01-44ff-b06e-8a90efd5ef9d",
   "metadata": {},
   "outputs": [
    {
     "data": {
      "text/plain": [
       "24"
      ]
     },
     "execution_count": 3,
     "metadata": {},
     "output_type": "execute_result"
    }
   ],
   "source": [
    "6<<2"
   ]
  },
  {
   "cell_type": "markdown",
   "id": "376c8e8a-a721-4e9f-85ce-f69296aac8ac",
   "metadata": {},
   "source": [
    "4. In python, 6&2 will give which of the following as output?"
   ]
  },
  {
   "cell_type": "code",
   "execution_count": 7,
   "id": "c294992f-e2b0-4cbb-ad62-cadc66ec2dbb",
   "metadata": {},
   "outputs": [
    {
     "data": {
      "text/plain": [
       "2"
      ]
     },
     "execution_count": 7,
     "metadata": {},
     "output_type": "execute_result"
    }
   ],
   "source": [
    "6&2"
   ]
  },
  {
   "cell_type": "markdown",
   "id": "dc908fbd-45f4-4e62-963d-91b18bdb5d26",
   "metadata": {},
   "source": [
    "5. In python, 6|2 will give which of the following as output?"
   ]
  },
  {
   "cell_type": "code",
   "execution_count": 9,
   "id": "a84e40dd-751b-4a1a-9975-de8616167d96",
   "metadata": {},
   "outputs": [
    {
     "data": {
      "text/plain": [
       "6"
      ]
     },
     "execution_count": 9,
     "metadata": {},
     "output_type": "execute_result"
    }
   ],
   "source": [
    "6|2"
   ]
  },
  {
   "cell_type": "markdown",
   "id": "0ba6a4e8-dbb2-4a9b-b6ef-df43a91ca5be",
   "metadata": {},
   "source": [
    "6. What does the finally keyword denotes in python?\n",
    "\n",
    "   C - the finally block will be executed no matter if the try block raises an error or not. "
   ]
  },
  {
   "cell_type": "markdown",
   "id": "c67b1257-eb19-4671-b6fe-2dece0d4e1d0",
   "metadata": {},
   "source": [
    "7. What does raise keyword is used for in python?\n",
    "\n",
    "   A - It is used to raise an exception "
   ]
  },
  {
   "cell_type": "markdown",
   "id": "298a3349-7d36-43dc-a360-11fbaa1232e2",
   "metadata": {},
   "source": [
    "8. Which of the following is a common use case of yield keyword in python?\n",
    "\n",
    "   C - in defining a generator "
   ]
  },
  {
   "cell_type": "markdown",
   "id": "b39b466a-d42b-4120-8b8a-e8fd20a9cf26",
   "metadata": {},
   "source": [
    "9. Which of the following are the valid variable names?\n",
    "\n",
    "    A -  _abc\n",
    "    C -  abc2 "
   ]
  },
  {
   "cell_type": "markdown",
   "id": "68f8035d-824d-4492-ba69-5bda13e9c243",
   "metadata": {},
   "source": [
    "10. Which of the following are the keywords in python?\n",
    "    A  yield,  B raise "
   ]
  },
  {
   "cell_type": "markdown",
   "id": "7dfe8553-0cbb-49f8-be66-9242ec3ed8ef",
   "metadata": {},
   "source": [
    "11. Write a python program to find the factorial of a number."
   ]
  },
  {
   "cell_type": "code",
   "execution_count": 5,
   "id": "7fbb7dc4-76f8-498a-bdfa-6d48f10e1989",
   "metadata": {},
   "outputs": [
    {
     "name": "stdout",
     "output_type": "stream",
     "text": [
      "The factorial of number 5 is: 120\n"
     ]
    }
   ],
   "source": [
    "def factorial_of_num(num):\n",
    "    if num == 0:\n",
    "        return 0\n",
    "    elif(num < 0):\n",
    "        return \"No negative numbers\"\n",
    "    else:\n",
    "        factorial = 1\n",
    "        for i in range(num, 0, -1):\n",
    "            factorial = factorial * i\n",
    "        return num, factorial\n",
    "\n",
    "number, factorial =  factorial_of_num(5)\n",
    "print(f\"The factorial of number {number} is: {factorial}\")"
   ]
  },
  {
   "cell_type": "markdown",
   "id": "2b937719-3f3d-4a11-93c6-7766677069ae",
   "metadata": {},
   "source": [
    "12. Write a python program to find whether a number is prime or composite"
   ]
  },
  {
   "cell_type": "code",
   "execution_count": 3,
   "id": "2e975a27-4584-4f19-a5d6-e1373adc3d02",
   "metadata": {},
   "outputs": [
    {
     "name": "stdout",
     "output_type": "stream",
     "text": [
      "11 is a prime number\n",
      "6 is a composite number\n"
     ]
    }
   ],
   "source": [
    "def check_prime_or_composite(num):\n",
    "    if num <= 1:\n",
    "        return \"Number is neither prime nor composite\"\n",
    "    else:\n",
    "        for i in range (2,num):\n",
    "            if num % i == 0:\n",
    "                return f\"{num} is a composite number\"\n",
    "        return f\"{num} is a prime number\"\n",
    "    \n",
    "print(check_prime_or_composite(11))\n",
    "print(check_prime_or_composite(6))  "
   ]
  },
  {
   "cell_type": "markdown",
   "id": "ad3b6cdd-da75-4c33-8fb3-6da2871dd754",
   "metadata": {},
   "source": [
    "13. Write a python program to check whether a given string is palindrome or not"
   ]
  },
  {
   "cell_type": "code",
   "execution_count": 28,
   "id": "6d8ca2cd-78a2-4d5b-ba2a-b9d09b29fe4d",
   "metadata": {},
   "outputs": [
    {
     "name": "stdout",
     "output_type": "stream",
     "text": [
      "madam is a palindrome\n",
      "word is not a palindrome\n"
     ]
    }
   ],
   "source": [
    "def check_palindrome(str):\n",
    "    str = str.lower()\n",
    "    if (str == str[::-1]):\n",
    "        return f\"{str} is a palindrome\"\n",
    "    return f\"{str} is not a palindrome\" \n",
    "\n",
    "print(check_palindrome(\"Madam\"))\n",
    "print(check_palindrome(\"word\"))"
   ]
  },
  {
   "cell_type": "markdown",
   "id": "3be65a53-a1c6-44d4-99cf-009cf56272de",
   "metadata": {},
   "source": [
    "14. Write a Python program to get the third side of right-angled triangle from two given sides."
   ]
  },
  {
   "cell_type": "code",
   "execution_count": 46,
   "id": "c058d835-f01a-443c-8548-380528edaa75",
   "metadata": {},
   "outputs": [
    {
     "name": "stdout",
     "output_type": "stream",
     "text": [
      "Hypotenuse = 5.0\n",
      "base = 4.0\n",
      "perpendicular = 3.0\n",
      "You know the answer!\n"
     ]
    }
   ],
   "source": [
    "def pythagoras(perpendicular, base, hypotenuse):\n",
    "    if perpendicular == str(\"x\"):\n",
    "        return (\"perpendicular = \" + str(((hypotenuse**2) - (base**2))**0.5))\n",
    "    elif base == str(\"x\"):\n",
    "        return (\"base = \" + str(((hypotenuse**2) - (perpendicular**2))**0.5))\n",
    "    elif hypotenuse == str(\"x\"):\n",
    "        return (\"Hypotenuse = \" + str(((perpendicular**2) + (base**2))**0.5))\n",
    "    else:\n",
    "        return \"You know the answer!\" \n",
    "\n",
    "print(pythagoras(3, 4, 'x'))\n",
    "print(pythagoras(3, 'x', 5))\n",
    "print(pythagoras('x', 4, 5))\n",
    "print(pythagoras(3, 4, 5))\n"
   ]
  },
  {
   "cell_type": "markdown",
   "id": "ffbaec02-9393-4145-9a30-94554cb16553",
   "metadata": {},
   "source": [
    "15. Write a python program to print the frequency of each of the characters present in a given string."
   ]
  },
  {
   "cell_type": "code",
   "execution_count": 79,
   "id": "2630d57d-ddc9-414d-b8ea-52e5c010e4d3",
   "metadata": {},
   "outputs": [
    {
     "name": "stdout",
     "output_type": "stream",
     "text": [
      "Frequency of characters in the string apple\n",
      "'a' - 1\n",
      "'p' - 2\n",
      "'l' - 1\n",
      "'e' - 1\n",
      "Frequency of characters in the string ball\n",
      "'b' - 1\n",
      "'a' - 1\n",
      "'l' - 2\n",
      "Frequency of characters in the string eye\n",
      "'e' - 2\n",
      "'y' - 1\n"
     ]
    }
   ],
   "source": [
    "def find_char_count(str):\n",
    "    str = str.lower()\n",
    "    print(\"Frequency of characters in the string\",str)\n",
    "    copyStr = \"\"\n",
    "    for char in str:\n",
    "        if char not in copyStr:\n",
    "            copyStr += char\n",
    "            print(f\"'{char}' - {str.count(char)}\")\n",
    "\n",
    "find_char_count(\"apple\")\n",
    "find_char_count(\"ball\")\n",
    "find_char_count(\"Eye\")"
   ]
  },
  {
   "cell_type": "code",
   "execution_count": null,
   "id": "8a7e3a15-0245-44a0-911b-a4b7713c4cf6",
   "metadata": {},
   "outputs": [],
   "source": []
  }
 ],
 "metadata": {
  "kernelspec": {
   "display_name": "Python 3 (ipykernel)",
   "language": "python",
   "name": "python3"
  },
  "language_info": {
   "codemirror_mode": {
    "name": "ipython",
    "version": 3
   },
   "file_extension": ".py",
   "mimetype": "text/x-python",
   "name": "python",
   "nbconvert_exporter": "python",
   "pygments_lexer": "ipython3",
   "version": "3.11.5"
  }
 },
 "nbformat": 4,
 "nbformat_minor": 5
}
